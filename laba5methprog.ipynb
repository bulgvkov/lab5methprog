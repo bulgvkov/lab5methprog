{
 "cells": [
  {
   "cell_type": "code",
   "execution_count": 1,
   "metadata": {
    "ExecuteTime": {
     "end_time": "2020-06-01T01:25:21.778696Z",
     "start_time": "2020-06-01T01:25:21.768861Z"
    }
   },
   "outputs": [],
   "source": [
    "from abc import abstractmethod, ABC"
   ]
  },
  {
   "cell_type": "code",
   "execution_count": 2,
   "metadata": {
    "ExecuteTime": {
     "end_time": "2020-06-01T01:25:21.803937Z",
     "start_time": "2020-06-01T01:25:21.780637Z"
    },
    "code_folding": []
   },
   "outputs": [],
   "source": [
    "class Sub(ABC):\n",
    "    \"\"\"\n",
    "    Интерфейс Субъекта объявляет общие операции как для Реального Субъекта, так\n",
    "    и для Заместителя.\n",
    "    \"\"\"\n",
    "    @abstractmethod\n",
    "    \"\"\"\n",
    "    абстрактный метод, который будет определен в каждом классе\n",
    "    \"\"\"\n",
    "    def read(self) -> None:\n",
    "        pass\n",
    "\n",
    "class RS(Sub):\n",
    "    \"\"\"\n",
    "    RS - реаальный субъект\n",
    "    Sub - интерфейс субъекта\n",
    "    \n",
    "    \"\"\"\n",
    "    def read(self):\n",
    "        \"\"\"\n",
    "        Чтение погоды из файла\n",
    "        \"\"\"\n",
    "        print('Реальный субъект: чтение')\n",
    "        with open('Погода Москва.txt') as f:\n",
    "            forecast = f.read()\n",
    "            print(forecast)\n",
    "\n",
    "class Proxy(Sub):\n",
    "    \"\"\"\n",
    "    Интерфейс Заместителя идентичен интерфейсу RS.\n",
    "    Sub - интерфейс субъекта\n",
    "    \n",
    "    \"\"\"\n",
    "    def __init__(self, real_sub: Sub):\n",
    "        \"\"\"\n",
    "        real_sub - экземляр класса Sub\n",
    "        username - имя пользователя, который пытается получить доступ к файлу\n",
    "        \"\"\"\n",
    "        self.real_sub = real_sub\n",
    "        self.username = None\n",
    "\n",
    "    def input_name(self):\n",
    "        \"\"\"\n",
    "        Запрос имени пользователя\n",
    "        \"\"\"\n",
    "        print('Proxy: Введите ваше имя: ')\n",
    "        self.username = str(input())\n",
    "\n",
    "    def read(self):\n",
    "        \"\"\"\n",
    "        Проверка доступа пользователя\n",
    "        \"\"\"\n",
    "        self.input_name()\n",
    "        if self.check(): #есть доступ\n",
    "            self.real_sub.read() #считывать содержимое файла с погодой\n",
    "        else:  \n",
    "            self.logger() #без доступа - запись в logger.txt\n",
    "\n",
    "    def check(self) -> bool:\n",
    "        \"\"\"\n",
    "        Проверка доступа к файлу\n",
    "        \"\"\"\n",
    "        print('Proxy: Проверка доступа юзера')\n",
    "        ls = ['Vitaly', 'Sergey'] #пользователи с допуском к файлу\n",
    "        if self.username in ls:\n",
    "            print('Есть доступ к файлу с погодой')\n",
    "            return True\n",
    "        else:\n",
    "            print('Нет доступа к файлу с погодой')\n",
    "            return False\n",
    "\n",
    "    def logger(self) -> bool:\n",
    "        \"\"\"\n",
    "        Запись пользователей без доступа в файл logger.txt\n",
    "        \"\"\"\n",
    "        print('Proxy: запись юзера в лог ')\n",
    "        with open(\"logger.txt\", \"a+\") as file:\n",
    "            file.write(self.username + '\\n')\n",
    "\n",
    "\n",
    "def code(subject: Sub):\n",
    "    \"\"\"\n",
    "    Код, который должен работать со всеми объектами (как с реальными, так и\n",
    "    заместителями) через интерфейс Субъекта, чтобы поддерживать как реальные\n",
    "    субъекты, так и заместителей.\n",
    "    \"\"\"\n",
    "    subject.read()"
   ]
  },
  {
   "cell_type": "code",
   "execution_count": 8,
   "metadata": {
    "ExecuteTime": {
     "end_time": "2020-06-01T01:25:21.811872Z",
     "start_time": "2020-06-01T01:25:21.807926Z"
    }
   },
   "outputs": [],
   "source": [
    "open('logger.txt', 'w').close()"
   ]
  },
  {
   "cell_type": "code",
   "execution_count": 9,
   "metadata": {
    "ExecuteTime": {
     "end_time": "2020-06-01T01:25:39.676921Z",
     "start_time": "2020-06-01T01:25:21.813663Z"
    }
   },
   "outputs": [
    {
     "name": "stdout",
     "output_type": "stream",
     "text": [
      "Код с реальным субъектом: \n",
      "Реальный субъект: чтение\n",
      "MOSCOW +26 \n",
      "Код с Proxy: \n",
      "Proxy: Введите ваше имя: \n",
      "Vitaly\n",
      "Proxy: Проверка доступа юзера\n",
      "Есть доступ к файлу с погодой\n",
      "Реальный субъект: чтение\n",
      "MOSCOW +26 \n",
      "Proxy: Введите ваше имя: \n",
      "Oleg\n",
      "Proxy: Проверка доступа юзера\n",
      "Нет доступа к файлу с погодой\n",
      "Proxy: запись юзера в лог \n",
      "Logger content is: Oleg\n",
      "\n"
     ]
    }
   ],
   "source": [
    "print('Код с реальным субъектом: ')\n",
    "real_sub = RS()\n",
    "code(real_sub)\n",
    "\n",
    "print('Код с Proxy: ')\n",
    "proxy = Proxy(real_sub)\n",
    "code(proxy)\n",
    "\n",
    "proxy_1 = Proxy(real_sub)\n",
    "code(proxy)\n",
    "\n",
    "with open('logger.txt', 'r') as f:\n",
    "    s = f.read()\n",
    "    print('Logger content is:', s)"
   ]
  },
  {
   "cell_type": "code",
   "execution_count": null,
   "metadata": {},
   "outputs": [],
   "source": []
  }
 ],
 "metadata": {
  "kernelspec": {
   "display_name": "Python 3",
   "language": "python",
   "name": "python3"
  },
  "language_info": {
   "codemirror_mode": {
    "name": "ipython",
    "version": 3
   },
   "file_extension": ".py",
   "mimetype": "text/x-python",
   "name": "python",
   "nbconvert_exporter": "python",
   "pygments_lexer": "ipython3",
   "version": "3.8.2"
  },
  "latex_envs": {
   "LaTeX_envs_menu_present": true,
   "autoclose": false,
   "autocomplete": true,
   "bibliofile": "biblio.bib",
   "cite_by": "apalike",
   "current_citInitial": 1,
   "eqLabelWithNumbers": true,
   "eqNumInitial": 1,
   "hotkeys": {
    "equation": "Ctrl-E",
    "itemize": "Ctrl-I"
   },
   "labels_anchors": false,
   "latex_user_defs": false,
   "report_style_numbering": false,
   "user_envs_cfg": false
  },
  "toc": {
   "base_numbering": 1,
   "nav_menu": {},
   "number_sections": true,
   "sideBar": true,
   "skip_h1_title": false,
   "title_cell": "Table of Contents",
   "title_sidebar": "Contents",
   "toc_cell": false,
   "toc_position": {},
   "toc_section_display": true,
   "toc_window_display": false
  }
 },
 "nbformat": 4,
 "nbformat_minor": 2
}
